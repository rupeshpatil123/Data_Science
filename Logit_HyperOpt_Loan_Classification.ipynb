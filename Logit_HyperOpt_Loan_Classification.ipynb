{
 "cells": [
  {
   "attachments": {},
   "cell_type": "markdown",
   "metadata": {},
   "source": [
    "### note: To run the code, a library called hyperopt must be installed\n",
    "\n",
    "###  pip install hyperopt"
   ]
  },
  {
   "cell_type": "markdown",
   "metadata": {},
   "source": [
    "### Use cases for HyperOpt\n",
    "\n",
    "### 1) Hyper parameters optimization!\n",
    "### 2) Creating a pipeline of execution of ML models"
   ]
  },
  {
   "cell_type": "code",
   "execution_count": 37,
   "metadata": {},
   "outputs": [],
   "source": [
    "import pandas as pd\n",
    "import plotly.express as pe\n",
    "from sklearn.model_selection import train_test_split\n",
    "from sklearn.preprocessing import StandardScaler\n",
    "from sklearn.tree import DecisionTreeClassifier\n",
    "from sklearn.metrics import confusion_matrix,f1_score,roc_auc_score,accuracy_score\n",
    "from hyperopt import hp,tpe,fmin,Trials,STATUS_OK,space_eval\n",
    "from hyperopt.early_stop import no_progress_loss\n",
    "import numpy as np\n"
   ]
  },
  {
   "cell_type": "markdown",
   "metadata": {},
   "source": [
    "## Step 1 : Gather the data"
   ]
  },
  {
   "cell_type": "code",
   "execution_count": 38,
   "metadata": {},
   "outputs": [
    {
     "data": {
      "text/html": [
       "<div>\n",
       "<style scoped>\n",
       "    .dataframe tbody tr th:only-of-type {\n",
       "        vertical-align: middle;\n",
       "    }\n",
       "\n",
       "    .dataframe tbody tr th {\n",
       "        vertical-align: top;\n",
       "    }\n",
       "\n",
       "    .dataframe thead th {\n",
       "        text-align: right;\n",
       "    }\n",
       "</style>\n",
       "<table border=\"1\" class=\"dataframe\">\n",
       "  <thead>\n",
       "    <tr style=\"text-align: right;\">\n",
       "      <th></th>\n",
       "      <th>Gender</th>\n",
       "      <th>Married</th>\n",
       "      <th>Dependents</th>\n",
       "      <th>Education</th>\n",
       "      <th>Self_Employed</th>\n",
       "      <th>ApplicantIncome</th>\n",
       "      <th>CoapplicantIncome</th>\n",
       "      <th>LoanAmount</th>\n",
       "      <th>Loan_Amount_Term</th>\n",
       "      <th>Credit_History</th>\n",
       "      <th>Property_Area</th>\n",
       "      <th>Loan_Status</th>\n",
       "    </tr>\n",
       "  </thead>\n",
       "  <tbody>\n",
       "    <tr>\n",
       "      <th>0</th>\n",
       "      <td>0</td>\n",
       "      <td>1</td>\n",
       "      <td>1</td>\n",
       "      <td>0</td>\n",
       "      <td>0</td>\n",
       "      <td>6608</td>\n",
       "      <td>0</td>\n",
       "      <td>137</td>\n",
       "      <td>180</td>\n",
       "      <td>1</td>\n",
       "      <td>1</td>\n",
       "      <td>1</td>\n",
       "    </tr>\n",
       "    <tr>\n",
       "      <th>1</th>\n",
       "      <td>0</td>\n",
       "      <td>1</td>\n",
       "      <td>2</td>\n",
       "      <td>0</td>\n",
       "      <td>0</td>\n",
       "      <td>4226</td>\n",
       "      <td>1040</td>\n",
       "      <td>110</td>\n",
       "      <td>360</td>\n",
       "      <td>1</td>\n",
       "      <td>1</td>\n",
       "      <td>1</td>\n",
       "    </tr>\n",
       "    <tr>\n",
       "      <th>2</th>\n",
       "      <td>1</td>\n",
       "      <td>1</td>\n",
       "      <td>0</td>\n",
       "      <td>1</td>\n",
       "      <td>0</td>\n",
       "      <td>3167</td>\n",
       "      <td>2283</td>\n",
       "      <td>154</td>\n",
       "      <td>360</td>\n",
       "      <td>1</td>\n",
       "      <td>2</td>\n",
       "      <td>1</td>\n",
       "    </tr>\n",
       "    <tr>\n",
       "      <th>3</th>\n",
       "      <td>0</td>\n",
       "      <td>0</td>\n",
       "      <td>0</td>\n",
       "      <td>1</td>\n",
       "      <td>1</td>\n",
       "      <td>6950</td>\n",
       "      <td>0</td>\n",
       "      <td>175</td>\n",
       "      <td>180</td>\n",
       "      <td>1</td>\n",
       "      <td>2</td>\n",
       "      <td>1</td>\n",
       "    </tr>\n",
       "    <tr>\n",
       "      <th>4</th>\n",
       "      <td>0</td>\n",
       "      <td>1</td>\n",
       "      <td>0</td>\n",
       "      <td>1</td>\n",
       "      <td>0</td>\n",
       "      <td>3993</td>\n",
       "      <td>3274</td>\n",
       "      <td>207</td>\n",
       "      <td>360</td>\n",
       "      <td>1</td>\n",
       "      <td>2</td>\n",
       "      <td>1</td>\n",
       "    </tr>\n",
       "    <tr>\n",
       "      <th>...</th>\n",
       "      <td>...</td>\n",
       "      <td>...</td>\n",
       "      <td>...</td>\n",
       "      <td>...</td>\n",
       "      <td>...</td>\n",
       "      <td>...</td>\n",
       "      <td>...</td>\n",
       "      <td>...</td>\n",
       "      <td>...</td>\n",
       "      <td>...</td>\n",
       "      <td>...</td>\n",
       "      <td>...</td>\n",
       "    </tr>\n",
       "    <tr>\n",
       "      <th>293</th>\n",
       "      <td>1</td>\n",
       "      <td>0</td>\n",
       "      <td>0</td>\n",
       "      <td>1</td>\n",
       "      <td>0</td>\n",
       "      <td>3846</td>\n",
       "      <td>0</td>\n",
       "      <td>111</td>\n",
       "      <td>360</td>\n",
       "      <td>1</td>\n",
       "      <td>2</td>\n",
       "      <td>1</td>\n",
       "    </tr>\n",
       "    <tr>\n",
       "      <th>294</th>\n",
       "      <td>0</td>\n",
       "      <td>0</td>\n",
       "      <td>0</td>\n",
       "      <td>1</td>\n",
       "      <td>0</td>\n",
       "      <td>2435</td>\n",
       "      <td>0</td>\n",
       "      <td>75</td>\n",
       "      <td>360</td>\n",
       "      <td>1</td>\n",
       "      <td>1</td>\n",
       "      <td>0</td>\n",
       "    </tr>\n",
       "    <tr>\n",
       "      <th>295</th>\n",
       "      <td>0</td>\n",
       "      <td>0</td>\n",
       "      <td>2</td>\n",
       "      <td>1</td>\n",
       "      <td>0</td>\n",
       "      <td>4923</td>\n",
       "      <td>0</td>\n",
       "      <td>166</td>\n",
       "      <td>360</td>\n",
       "      <td>0</td>\n",
       "      <td>2</td>\n",
       "      <td>1</td>\n",
       "    </tr>\n",
       "    <tr>\n",
       "      <th>296</th>\n",
       "      <td>0</td>\n",
       "      <td>1</td>\n",
       "      <td>3</td>\n",
       "      <td>0</td>\n",
       "      <td>0</td>\n",
       "      <td>2071</td>\n",
       "      <td>754</td>\n",
       "      <td>94</td>\n",
       "      <td>480</td>\n",
       "      <td>1</td>\n",
       "      <td>2</td>\n",
       "      <td>1</td>\n",
       "    </tr>\n",
       "    <tr>\n",
       "      <th>297</th>\n",
       "      <td>1</td>\n",
       "      <td>0</td>\n",
       "      <td>0</td>\n",
       "      <td>1</td>\n",
       "      <td>0</td>\n",
       "      <td>2378</td>\n",
       "      <td>0</td>\n",
       "      <td>46</td>\n",
       "      <td>360</td>\n",
       "      <td>1</td>\n",
       "      <td>3</td>\n",
       "      <td>0</td>\n",
       "    </tr>\n",
       "  </tbody>\n",
       "</table>\n",
       "<p>298 rows × 12 columns</p>\n",
       "</div>"
      ],
      "text/plain": [
       "     Gender  Married  Dependents  Education  Self_Employed  ApplicantIncome  \\\n",
       "0         0        1           1          0              0             6608   \n",
       "1         0        1           2          0              0             4226   \n",
       "2         1        1           0          1              0             3167   \n",
       "3         0        0           0          1              1             6950   \n",
       "4         0        1           0          1              0             3993   \n",
       "..      ...      ...         ...        ...            ...              ...   \n",
       "293       1        0           0          1              0             3846   \n",
       "294       0        0           0          1              0             2435   \n",
       "295       0        0           2          1              0             4923   \n",
       "296       0        1           3          0              0             2071   \n",
       "297       1        0           0          1              0             2378   \n",
       "\n",
       "     CoapplicantIncome  LoanAmount  Loan_Amount_Term  Credit_History  \\\n",
       "0                    0         137               180               1   \n",
       "1                 1040         110               360               1   \n",
       "2                 2283         154               360               1   \n",
       "3                    0         175               180               1   \n",
       "4                 3274         207               360               1   \n",
       "..                 ...         ...               ...             ...   \n",
       "293                  0         111               360               1   \n",
       "294                  0          75               360               1   \n",
       "295                  0         166               360               0   \n",
       "296                754          94               480               1   \n",
       "297                  0          46               360               1   \n",
       "\n",
       "     Property_Area  Loan_Status  \n",
       "0                1            1  \n",
       "1                1            1  \n",
       "2                2            1  \n",
       "3                2            1  \n",
       "4                2            1  \n",
       "..             ...          ...  \n",
       "293              2            1  \n",
       "294              1            0  \n",
       "295              2            1  \n",
       "296              2            1  \n",
       "297              3            0  \n",
       "\n",
       "[298 rows x 12 columns]"
      ]
     },
     "execution_count": 38,
     "metadata": {},
     "output_type": "execute_result"
    }
   ],
   "source": [
    "path = r\"C:\\Users\\harsh\\Desktop\\OptimizingMLModelsOFSS\\datasets\\Loan_Status_Classification.csv\"\n",
    "loan_df = pd.read_csv(path)\n",
    "loan_df"
   ]
  },
  {
   "cell_type": "markdown",
   "metadata": {},
   "source": [
    "## step 2 : Exploratory Data Analysis (EDA)"
   ]
  },
  {
   "cell_type": "code",
   "execution_count": 39,
   "metadata": {},
   "outputs": [
    {
     "data": {
      "text/plain": [
       "(298, 12)"
      ]
     },
     "execution_count": 39,
     "metadata": {},
     "output_type": "execute_result"
    }
   ],
   "source": [
    "loan_df.shape"
   ]
  },
  {
   "cell_type": "code",
   "execution_count": 40,
   "metadata": {},
   "outputs": [
    {
     "data": {
      "text/plain": [
       "Gender               0\n",
       "Married              0\n",
       "Dependents           0\n",
       "Education            0\n",
       "Self_Employed        0\n",
       "ApplicantIncome      0\n",
       "CoapplicantIncome    0\n",
       "LoanAmount           0\n",
       "Loan_Amount_Term     0\n",
       "Credit_History       0\n",
       "Property_Area        0\n",
       "Loan_Status          0\n",
       "dtype: int64"
      ]
     },
     "execution_count": 40,
     "metadata": {},
     "output_type": "execute_result"
    }
   ],
   "source": [
    "loan_df.isna().sum()"
   ]
  },
  {
   "cell_type": "code",
   "execution_count": 41,
   "metadata": {},
   "outputs": [
    {
     "data": {
      "text/plain": [
       "Gender                 2\n",
       "Married                2\n",
       "Dependents             4\n",
       "Education              2\n",
       "Self_Employed          2\n",
       "ApplicantIncome      257\n",
       "CoapplicantIncome    150\n",
       "LoanAmount           145\n",
       "Loan_Amount_Term       9\n",
       "Credit_History         2\n",
       "Property_Area          3\n",
       "Loan_Status            2\n",
       "dtype: int64"
      ]
     },
     "execution_count": 41,
     "metadata": {},
     "output_type": "execute_result"
    }
   ],
   "source": [
    "loan_df.nunique()"
   ]
  },
  {
   "cell_type": "code",
   "execution_count": 42,
   "metadata": {},
   "outputs": [],
   "source": [
    "real_value_columns_loan_df = ['ApplicantIncome', 'CoapplicantIncome', 'LoanAmount']\n",
    "\n",
    "categorical_columns_loan_df = ['Gender', 'Married', 'Dependents', 'Education', 'Self_Employed','Loan_Amount_Term', 'Credit_History', 'Property_Area', 'Loan_Status']"
   ]
  },
  {
   "cell_type": "markdown",
   "metadata": {},
   "source": [
    "### mark the categorical columns by setting their data type"
   ]
  },
  {
   "cell_type": "code",
   "execution_count": 43,
   "metadata": {},
   "outputs": [],
   "source": [
    "loan_df[   categorical_columns_loan_df ] =  loan_df[   categorical_columns_loan_df  ].astype('str')"
   ]
  },
  {
   "cell_type": "code",
   "execution_count": 44,
   "metadata": {},
   "outputs": [
    {
     "data": {
      "text/html": [
       "<div>\n",
       "<style scoped>\n",
       "    .dataframe tbody tr th:only-of-type {\n",
       "        vertical-align: middle;\n",
       "    }\n",
       "\n",
       "    .dataframe tbody tr th {\n",
       "        vertical-align: top;\n",
       "    }\n",
       "\n",
       "    .dataframe thead th {\n",
       "        text-align: right;\n",
       "    }\n",
       "</style>\n",
       "<table border=\"1\" class=\"dataframe\">\n",
       "  <thead>\n",
       "    <tr style=\"text-align: right;\">\n",
       "      <th></th>\n",
       "      <th>ApplicantIncome</th>\n",
       "      <th>CoapplicantIncome</th>\n",
       "      <th>LoanAmount</th>\n",
       "    </tr>\n",
       "  </thead>\n",
       "  <tbody>\n",
       "    <tr>\n",
       "      <th>count</th>\n",
       "      <td>298.000000</td>\n",
       "      <td>298.000000</td>\n",
       "      <td>298.000000</td>\n",
       "    </tr>\n",
       "    <tr>\n",
       "      <th>mean</th>\n",
       "      <td>5351.265101</td>\n",
       "      <td>1673.026846</td>\n",
       "      <td>143.560403</td>\n",
       "    </tr>\n",
       "    <tr>\n",
       "      <th>std</th>\n",
       "      <td>6306.080712</td>\n",
       "      <td>2892.404818</td>\n",
       "      <td>80.395182</td>\n",
       "    </tr>\n",
       "    <tr>\n",
       "      <th>min</th>\n",
       "      <td>150.000000</td>\n",
       "      <td>0.000000</td>\n",
       "      <td>9.000000</td>\n",
       "    </tr>\n",
       "    <tr>\n",
       "      <th>25%</th>\n",
       "      <td>2883.750000</td>\n",
       "      <td>0.000000</td>\n",
       "      <td>99.250000</td>\n",
       "    </tr>\n",
       "    <tr>\n",
       "      <th>50%</th>\n",
       "      <td>3854.000000</td>\n",
       "      <td>1106.000000</td>\n",
       "      <td>125.500000</td>\n",
       "    </tr>\n",
       "    <tr>\n",
       "      <th>75%</th>\n",
       "      <td>5721.500000</td>\n",
       "      <td>2281.000000</td>\n",
       "      <td>171.500000</td>\n",
       "    </tr>\n",
       "    <tr>\n",
       "      <th>max</th>\n",
       "      <td>81000.000000</td>\n",
       "      <td>33837.000000</td>\n",
       "      <td>600.000000</td>\n",
       "    </tr>\n",
       "  </tbody>\n",
       "</table>\n",
       "</div>"
      ],
      "text/plain": [
       "       ApplicantIncome  CoapplicantIncome  LoanAmount\n",
       "count       298.000000         298.000000  298.000000\n",
       "mean       5351.265101        1673.026846  143.560403\n",
       "std        6306.080712        2892.404818   80.395182\n",
       "min         150.000000           0.000000    9.000000\n",
       "25%        2883.750000           0.000000   99.250000\n",
       "50%        3854.000000        1106.000000  125.500000\n",
       "75%        5721.500000        2281.000000  171.500000\n",
       "max       81000.000000       33837.000000  600.000000"
      ]
     },
     "execution_count": 44,
     "metadata": {},
     "output_type": "execute_result"
    }
   ],
   "source": [
    "loan_df[real_value_columns_loan_df].describe()"
   ]
  },
  {
   "cell_type": "code",
   "execution_count": 45,
   "metadata": {},
   "outputs": [
    {
     "data": {
      "text/html": [
       "<div>\n",
       "<style scoped>\n",
       "    .dataframe tbody tr th:only-of-type {\n",
       "        vertical-align: middle;\n",
       "    }\n",
       "\n",
       "    .dataframe tbody tr th {\n",
       "        vertical-align: top;\n",
       "    }\n",
       "\n",
       "    .dataframe thead th {\n",
       "        text-align: right;\n",
       "    }\n",
       "</style>\n",
       "<table border=\"1\" class=\"dataframe\">\n",
       "  <thead>\n",
       "    <tr style=\"text-align: right;\">\n",
       "      <th></th>\n",
       "      <th>ApplicantIncome</th>\n",
       "      <th>CoapplicantIncome</th>\n",
       "      <th>LoanAmount</th>\n",
       "    </tr>\n",
       "  </thead>\n",
       "  <tbody>\n",
       "    <tr>\n",
       "      <th>0</th>\n",
       "      <td>6608</td>\n",
       "      <td>0</td>\n",
       "      <td>137</td>\n",
       "    </tr>\n",
       "    <tr>\n",
       "      <th>1</th>\n",
       "      <td>4226</td>\n",
       "      <td>1040</td>\n",
       "      <td>110</td>\n",
       "    </tr>\n",
       "    <tr>\n",
       "      <th>2</th>\n",
       "      <td>3167</td>\n",
       "      <td>2283</td>\n",
       "      <td>154</td>\n",
       "    </tr>\n",
       "    <tr>\n",
       "      <th>3</th>\n",
       "      <td>6950</td>\n",
       "      <td>0</td>\n",
       "      <td>175</td>\n",
       "    </tr>\n",
       "    <tr>\n",
       "      <th>4</th>\n",
       "      <td>3993</td>\n",
       "      <td>3274</td>\n",
       "      <td>207</td>\n",
       "    </tr>\n",
       "    <tr>\n",
       "      <th>...</th>\n",
       "      <td>...</td>\n",
       "      <td>...</td>\n",
       "      <td>...</td>\n",
       "    </tr>\n",
       "    <tr>\n",
       "      <th>293</th>\n",
       "      <td>3846</td>\n",
       "      <td>0</td>\n",
       "      <td>111</td>\n",
       "    </tr>\n",
       "    <tr>\n",
       "      <th>294</th>\n",
       "      <td>2435</td>\n",
       "      <td>0</td>\n",
       "      <td>75</td>\n",
       "    </tr>\n",
       "    <tr>\n",
       "      <th>295</th>\n",
       "      <td>4923</td>\n",
       "      <td>0</td>\n",
       "      <td>166</td>\n",
       "    </tr>\n",
       "    <tr>\n",
       "      <th>296</th>\n",
       "      <td>2071</td>\n",
       "      <td>754</td>\n",
       "      <td>94</td>\n",
       "    </tr>\n",
       "    <tr>\n",
       "      <th>297</th>\n",
       "      <td>2378</td>\n",
       "      <td>0</td>\n",
       "      <td>46</td>\n",
       "    </tr>\n",
       "  </tbody>\n",
       "</table>\n",
       "<p>298 rows × 3 columns</p>\n",
       "</div>"
      ],
      "text/plain": [
       "     ApplicantIncome  CoapplicantIncome  LoanAmount\n",
       "0               6608                  0         137\n",
       "1               4226               1040         110\n",
       "2               3167               2283         154\n",
       "3               6950                  0         175\n",
       "4               3993               3274         207\n",
       "..               ...                ...         ...\n",
       "293             3846                  0         111\n",
       "294             2435                  0          75\n",
       "295             4923                  0         166\n",
       "296             2071                754          94\n",
       "297             2378                  0          46\n",
       "\n",
       "[298 rows x 3 columns]"
      ]
     },
     "execution_count": 45,
     "metadata": {},
     "output_type": "execute_result"
    }
   ],
   "source": [
    "loan_df[real_value_columns_loan_df]"
   ]
  },
  {
   "cell_type": "code",
   "execution_count": 46,
   "metadata": {},
   "outputs": [
    {
     "data": {
      "text/html": [
       "<div>\n",
       "<style scoped>\n",
       "    .dataframe tbody tr th:only-of-type {\n",
       "        vertical-align: middle;\n",
       "    }\n",
       "\n",
       "    .dataframe tbody tr th {\n",
       "        vertical-align: top;\n",
       "    }\n",
       "\n",
       "    .dataframe thead th {\n",
       "        text-align: right;\n",
       "    }\n",
       "</style>\n",
       "<table border=\"1\" class=\"dataframe\">\n",
       "  <thead>\n",
       "    <tr style=\"text-align: right;\">\n",
       "      <th></th>\n",
       "      <th>Gender</th>\n",
       "      <th>Married</th>\n",
       "      <th>Dependents</th>\n",
       "      <th>Education</th>\n",
       "      <th>Self_Employed</th>\n",
       "      <th>Loan_Amount_Term</th>\n",
       "      <th>Credit_History</th>\n",
       "      <th>Property_Area</th>\n",
       "      <th>Loan_Status</th>\n",
       "    </tr>\n",
       "  </thead>\n",
       "  <tbody>\n",
       "    <tr>\n",
       "      <th>count</th>\n",
       "      <td>298</td>\n",
       "      <td>298</td>\n",
       "      <td>298</td>\n",
       "      <td>298</td>\n",
       "      <td>298</td>\n",
       "      <td>298</td>\n",
       "      <td>298</td>\n",
       "      <td>298</td>\n",
       "      <td>298</td>\n",
       "    </tr>\n",
       "    <tr>\n",
       "      <th>unique</th>\n",
       "      <td>2</td>\n",
       "      <td>2</td>\n",
       "      <td>4</td>\n",
       "      <td>2</td>\n",
       "      <td>2</td>\n",
       "      <td>9</td>\n",
       "      <td>2</td>\n",
       "      <td>3</td>\n",
       "      <td>2</td>\n",
       "    </tr>\n",
       "    <tr>\n",
       "      <th>top</th>\n",
       "      <td>0</td>\n",
       "      <td>1</td>\n",
       "      <td>0</td>\n",
       "      <td>1</td>\n",
       "      <td>0</td>\n",
       "      <td>360</td>\n",
       "      <td>1</td>\n",
       "      <td>2</td>\n",
       "      <td>1</td>\n",
       "    </tr>\n",
       "    <tr>\n",
       "      <th>freq</th>\n",
       "      <td>245</td>\n",
       "      <td>187</td>\n",
       "      <td>176</td>\n",
       "      <td>235</td>\n",
       "      <td>258</td>\n",
       "      <td>248</td>\n",
       "      <td>231</td>\n",
       "      <td>115</td>\n",
       "      <td>150</td>\n",
       "    </tr>\n",
       "  </tbody>\n",
       "</table>\n",
       "</div>"
      ],
      "text/plain": [
       "       Gender Married Dependents Education Self_Employed Loan_Amount_Term  \\\n",
       "count     298     298        298       298           298              298   \n",
       "unique      2       2          4         2             2                9   \n",
       "top         0       1          0         1             0              360   \n",
       "freq      245     187        176       235           258              248   \n",
       "\n",
       "       Credit_History Property_Area Loan_Status  \n",
       "count             298           298         298  \n",
       "unique              2             3           2  \n",
       "top                 1             2           1  \n",
       "freq              231           115         150  "
      ]
     },
     "execution_count": 46,
     "metadata": {},
     "output_type": "execute_result"
    }
   ],
   "source": [
    "loan_df[categorical_columns_loan_df].describe()"
   ]
  },
  {
   "cell_type": "code",
   "execution_count": 47,
   "metadata": {},
   "outputs": [],
   "source": [
    "sc = StandardScaler()\n",
    "loan_df[real_value_columns_loan_df] = sc.fit_transform(loan_df[real_value_columns_loan_df])"
   ]
  },
  {
   "cell_type": "markdown",
   "metadata": {},
   "source": [
    "### step 3: Features & target column\n",
    "\n",
    "### features: columns for judgement\n",
    "#### target :  result column to be predicted by the model"
   ]
  },
  {
   "cell_type": "code",
   "execution_count": 48,
   "metadata": {},
   "outputs": [],
   "source": [
    "# remove Loan_Status from list of columns\n",
    "categorical_columns_loan_df.remove(  \"Loan_Status\"  )\n",
    "\n",
    "#put it into a separet list\n",
    "target = [\"Loan_Status\"]\n",
    "\n",
    "#remaining real & categorial columns can now be combined into a list called features\n",
    "features = categorical_columns_loan_df"
   ]
  },
  {
   "cell_type": "markdown",
   "metadata": {},
   "source": [
    "#### step 4 : Separate dataset into training and testing test"
   ]
  },
  {
   "cell_type": "code",
   "execution_count": 49,
   "metadata": {},
   "outputs": [],
   "source": [
    "X_train, X_test, y_train, y_test = train_test_split(  \n",
    "    loan_df[features],loan_df[target],\n",
    "    test_size=0.2,\n",
    "    random_state=10,\n",
    "    stratify = loan_df[target]\n",
    ")"
   ]
  },
  {
   "attachments": {},
   "cell_type": "markdown",
   "metadata": {},
   "source": [
    "#### HYPEROPT!!"
   ]
  },
  {
   "attachments": {},
   "cell_type": "markdown",
   "metadata": {},
   "source": [
    "Age     Income   Loan_Amount     Status(target column)\n",
    "\n",
    "0.1   0.6  0.3 (weights)\n",
    "\n",
    "\n",
    "L1 regularization : It helps the model to elimiate non-important features completely from the process of generating result.\n",
    "    Advantages:\n",
    "        1) Reduce features to be used for final answers.\n",
    "        2) Identify how important a feature is to the end result\n",
    "\n",
    "L2 regularization: Solves the problem of overfitting (model should not show great performance in training and significantly become inaccurate during testing)\n",
    "\n",
    "C (learning rate???)\n",
    "\n",
    "\n",
    "\n",
    "Age: less important\n",
    "Income & Loan_Amount is more important.\n",
    "\n",
    "If model is able to do this, accuracy of the model"
   ]
  },
  {
   "attachments": {},
   "cell_type": "markdown",
   "metadata": {},
   "source": [
    "### HYPEROPT: \n",
    "\n",
    "    #1) Create a search space: A set of values to be TRIED for various parameters\n",
    "    #2) Create an objective function that will work on minimization principle to find the best model\n",
    "    #3) Apply the objective function on the search space\n",
    "\n",
    "Note:\n",
    "\n",
    "    a)Keys need to match with parameters to be adjusted\n",
    "    b) if there are options to choose from (a set of values), use hp.choice function\n",
    "        but\n",
    "        if there is a range of values in mind for a certain parameter choose hp.uniform"
   ]
  },
  {
   "attachments": {},
   "cell_type": "markdown",
   "metadata": {},
   "source": [
    "## how to set max_evals\n",
    "\n",
    "#step 1: identify hp.choice parameters OPTIONS\n",
    "            max_features(2), criterion(3) & splitter(2)\n",
    "                    Total = 7\n",
    "\n",
    "# step 2: \n",
    "        identify \n",
    "                hp.uniform, hp.quniform, hp.loguniform, hp.qloguniform\n",
    "            JUST COUNT OCCURRENCES\n",
    "            e.g: 1 occurence of such function hp.uniform in min_impurity_decrease\n",
    "                Total = 1\n",
    "            \n",
    "# step 3: \n",
    "            step 2 number * 20 and step 1 number * 15\n",
    "                    20 *1   and  15 * 7\n",
    "\n",
    "                    =125\n"
   ]
  },
  {
   "attachments": {},
   "cell_type": "markdown",
   "metadata": {},
   "source": [
    "1)Non-categorical choices lines (0)\n",
    "\n",
    "2) How many possible entries for categorical hyperparameters are present in the search space (15)\n",
    "\n",
    "\n",
    "Non-categorical count from step 1 *   20     +      categorical items count from step 2 * 15\n",
    "\n",
    "=  0 * 20 +   15 * 15 = 225"
   ]
  },
  {
   "cell_type": "code",
   "execution_count": 50,
   "metadata": {},
   "outputs": [],
   "source": [
    "#keys of this dictionary are names of parameters\n",
    "space ={\n",
    "    \"max_features\" : hp.choice(\"feature choice\", [\"sqrt\", \"log2\"]),\n",
    "    'max_depth' : hp.choice(  'depth parameter',[1,2,3,4,5,6,7,8]  ), #choose some number between 1 to 8\n",
    "    'criterion' : hp.choice(  'criteria parameter' ,   ['gini',\"entropy\", 'log_loss'] ),\n",
    "    'splitter' : hp.choice(\"splitter choice\", [\"best\", \"random\"]),\n",
    "    'min_impurity_decrease' : hp.uniform(\"impurity factor\", 0, 0.02)\n",
    "}"
   ]
  },
  {
   "attachments": {},
   "cell_type": "markdown",
   "metadata": {},
   "source": [
    "step 1: count lines where non-categorical choices have been made? (1)\n",
    "step 2: count entries in lines where hp.choice has been used = 15\n",
    "\n",
    "\n",
    "ans = non-categorical count multiplied by 20    plus  categorical items count multiplied by 15\n",
    "\n",
    "\n",
    "    =    1    *   20       +      15    *  15\n",
    "    = 245"
   ]
  },
  {
   "cell_type": "code",
   "execution_count": 51,
   "metadata": {},
   "outputs": [],
   "source": [
    "# trial 1: max_depth: 4, criterion: gini, splitter : \"best\" ------------> -57\n",
    "# trial 2: max_depth : 7, criterion : gini, splitter : \"random\"-----------> -70"
   ]
  },
  {
   "cell_type": "code",
   "execution_count": 52,
   "metadata": {},
   "outputs": [],
   "source": [
    "scores=[]\n",
    "def objective(space):\n",
    "    model = DecisionTreeClassifier(**space)\n",
    "\n",
    "    model.fit(X_train, y_train)\n",
    "\n",
    "    pred = model.predict(X_test)\n",
    "\n",
    "    accuracy = accuracy_score(y_test,pred) #-57 -70: hyperopt selects -70\n",
    "\n",
    "\n",
    "    scores.append(accuracy)\n",
    "    return {'loss': -accuracy,'status':STATUS_OK}"
   ]
  },
  {
   "attachments": {},
   "cell_type": "markdown",
   "metadata": {},
   "source": [
    "best feature: \n",
    "            i) ENTROPY\n",
    "            ii) GINI"
   ]
  },
  {
   "cell_type": "code",
   "execution_count": 53,
   "metadata": {},
   "outputs": [
    {
     "name": "stdout",
     "output_type": "stream",
     "text": [
      " 24%|██▍       | 30/125 [00:00<00:01, 68.21trial/s, best loss: -0.7666666666666667]\n",
      "{'criterion': 'gini', 'max_features': 'sqrt', 'min_impurity_decrease': 0.01081665003522246, 'splitter': 'best'}\n"
     ]
    }
   ],
   "source": [
    "trials = Trials() #create a database (in-memory)\n",
    "\n",
    "      #fmin is the function to be used for minimum optimization\n",
    "best = fmin(fn=objective, #function\n",
    "            space=space, #search space parameters\n",
    "            algo=tpe.suggest, #next combination has to be picked intelligently(bayesian optimization)\n",
    "            max_evals=125,\n",
    "            early_stop_fn=no_progress_loss(  iteration_stop_count=25, percent_increase=0.001 ), \n",
    "            trials=trials)\n",
    "\n",
    "print (space_eval(space, best))"
   ]
  },
  {
   "cell_type": "code",
   "execution_count": 54,
   "metadata": {},
   "outputs": [
    {
     "name": "stdout",
     "output_type": "stream",
     "text": [
      "{'state': 2, 'tid': 0, 'spec': None, 'result': {'loss': -0.5, 'status': 'ok'}, 'misc': {'tid': 0, 'cmd': ('domain_attachment', 'FMinIter_Domain'), 'workdir': None, 'idxs': {'criteria parameter': [0], 'feature choice': [0], 'impurity factor': [0], 'splitter choice': [0]}, 'vals': {'criteria parameter': [0], 'feature choice': [0], 'impurity factor': [0.0064697032313749195], 'splitter choice': [0]}}, 'exp_key': None, 'owner': None, 'version': 0, 'book_time': datetime.datetime(2023, 2, 28, 9, 29, 54, 536000), 'refresh_time': datetime.datetime(2023, 2, 28, 9, 29, 54, 547000)}\n"
     ]
    }
   ],
   "source": [
    "for entry in trials:\n",
    "    print(entry)\n",
    "    break"
   ]
  }
 ],
 "metadata": {
  "kernelspec": {
   "display_name": "Python 3",
   "language": "python",
   "name": "python3"
  },
  "language_info": {
   "codemirror_mode": {
    "name": "ipython",
    "version": 3
   },
   "file_extension": ".py",
   "mimetype": "text/x-python",
   "name": "python",
   "nbconvert_exporter": "python",
   "pygments_lexer": "ipython3",
   "version": "3.11.1"
  },
  "orig_nbformat": 4,
  "vscode": {
   "interpreter": {
    "hash": "b5366fdf1b75ea46866cbb0dbf20c9c00a492271cd056179d726b8c91a378c13"
   }
  }
 },
 "nbformat": 4,
 "nbformat_minor": 2
}
