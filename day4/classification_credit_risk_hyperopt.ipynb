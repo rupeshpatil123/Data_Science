{
 "cells": [
  {
   "attachments": {},
   "cell_type": "markdown",
   "metadata": {},
   "source": [
    "### Objective: choose the best algorithm out of Dtree, Logistic Regression & SVM with right hyperparameters for classifying credit risk customers as loan accepted and rejected"
   ]
  },
  {
   "cell_type": "code",
   "execution_count": null,
   "metadata": {},
   "outputs": [
    {
     "ename": "",
     "evalue": "",
     "output_type": "error",
     "traceback": [
      "\u001b[1;31mRunning cells with 'virtual_setup' requires the ipykernel package.\n",
      "\u001b[1;31mRun the following command to install 'ipykernel' into the Python environment. \n",
      "\u001b[1;31mCommand: 'c:/Users/harsh/Desktop/NPCI-Python-ML/virtual_setup/Scripts/python.exe -m pip install ipykernel -U --force-reinstall'"
     ]
    }
   ],
   "source": [
    "#for loading & visualization\n",
    "import pandas as pd\n",
    "import plotly.express as pe\n",
    "\n",
    "#for preprocessing\n",
    "from sklearn.preprocessing import StandardScaler, LabelEncoder\n",
    "from sklearn.model_selection import train_test_split\n",
    "\n",
    "#for dimensionality reduction\n",
    "from sklearn.decomposition import PCA\n",
    "\n",
    "#for model algorithms\n",
    "from sklearn.svm import SVC\n",
    "from sklearn.linear_model import LogisticRegression\n",
    "from sklearn.tree import DecisionTreeClassifier\n",
    "from sklearn.ensemble import RandomForestClassifier\n",
    "#for hyperopt functions\n",
    "from hyperopt import hp,tpe,fmin,Trials,STATUS_OK,space_eval\n",
    "\n",
    "#for stopping hyperopt early\n",
    "from hyperopt.early_stop import no_progress_loss\n",
    "\n",
    "#for metrics\n",
    "from sklearn.metrics import classification_report, confusion_matrix, accuracy_score,f1_score\n"
   ]
  },
  {
   "cell_type": "code",
   "execution_count": null,
   "metadata": {},
   "outputs": [
    {
     "ename": "",
     "evalue": "",
     "output_type": "error",
     "traceback": [
      "\u001b[1;31mRunning cells with 'virtual_setup' requires the ipykernel package.\n",
      "\u001b[1;31mRun the following command to install 'ipykernel' into the Python environment. \n",
      "\u001b[1;31mCommand: 'c:/Users/harsh/Desktop/NPCI-Python-ML/virtual_setup/Scripts/python.exe -m pip install ipykernel -U --force-reinstall'"
     ]
    }
   ],
   "source": [
    "path = r\"C:\\Users\\harsh\\Desktop\\NPCI-Python-ML\\datasets\\Balanced_credit_Risk.txt\"\n",
    "df = pd.read_csv(path)\n",
    "df"
   ]
  },
  {
   "attachments": {},
   "cell_type": "markdown",
   "metadata": {},
   "source": [
    "## step 2: Data exploration & preprocessing"
   ]
  },
  {
   "cell_type": "code",
   "execution_count": null,
   "metadata": {},
   "outputs": [
    {
     "ename": "",
     "evalue": "",
     "output_type": "error",
     "traceback": [
      "\u001b[1;31mRunning cells with 'virtual_setup' requires the ipykernel package.\n",
      "\u001b[1;31mRun the following command to install 'ipykernel' into the Python environment. \n",
      "\u001b[1;31mCommand: 'c:/Users/harsh/Desktop/NPCI-Python-ML/virtual_setup/Scripts/python.exe -m pip install ipykernel -U --force-reinstall'"
     ]
    }
   ],
   "source": [
    "df.drop(columns=['Unnamed: 0', 'index']).corr().loc[['loan_status']]"
   ]
  },
  {
   "cell_type": "code",
   "execution_count": null,
   "metadata": {},
   "outputs": [
    {
     "ename": "",
     "evalue": "",
     "output_type": "error",
     "traceback": [
      "\u001b[1;31mRunning cells with 'virtual_setup' requires the ipykernel package.\n",
      "\u001b[1;31mRun the following command to install 'ipykernel' into the Python environment. \n",
      "\u001b[1;31mCommand: 'c:/Users/harsh/Desktop/NPCI-Python-ML/virtual_setup/Scripts/python.exe -m pip install ipykernel -U --force-reinstall'"
     ]
    }
   ],
   "source": [
    "for col in[\"person_age\",\"person_income\",\"person_emp_length\",\"loan_amnt\",\"loan_int_rate\",\"loan_percent_income\",\"cb_person_cred_hist_length\"]:\n",
    "    display(  pe.strip(y=col, x='loan_status', data_frame=df )   )"
   ]
  },
  {
   "cell_type": "code",
   "execution_count": null,
   "metadata": {},
   "outputs": [
    {
     "ename": "",
     "evalue": "",
     "output_type": "error",
     "traceback": [
      "\u001b[1;31mRunning cells with 'virtual_setup' requires the ipykernel package.\n",
      "\u001b[1;31mRun the following command to install 'ipykernel' into the Python environment. \n",
      "\u001b[1;31mCommand: 'c:/Users/harsh/Desktop/NPCI-Python-ML/virtual_setup/Scripts/python.exe -m pip install ipykernel -U --force-reinstall'"
     ]
    }
   ],
   "source": [
    "for col in [\"person_home_ownership\",\"loan_intent\",\"loan_grade\",\"cb_person_default_on_file\"]:\n",
    "    display(    pd.crosstab(  index=df[col], columns=df['loan_status']   )         )"
   ]
  },
  {
   "cell_type": "code",
   "execution_count": null,
   "metadata": {},
   "outputs": [
    {
     "ename": "",
     "evalue": "",
     "output_type": "error",
     "traceback": [
      "\u001b[1;31mRunning cells with 'virtual_setup' requires the ipykernel package.\n",
      "\u001b[1;31mRun the following command to install 'ipykernel' into the Python environment. \n",
      "\u001b[1;31mCommand: 'c:/Users/harsh/Desktop/NPCI-Python-ML/virtual_setup/Scripts/python.exe -m pip install ipykernel -U --force-reinstall'"
     ]
    }
   ],
   "source": [
    "pe.scatter_matrix(\n",
    "    data_frame=df.drop(columns=['Unnamed: 0', 'index']),\n",
    "    color='loan_status',\n",
    "    height=1900,\n",
    "    width = 1800\n",
    ")"
   ]
  },
  {
   "cell_type": "code",
   "execution_count": null,
   "metadata": {},
   "outputs": [
    {
     "ename": "",
     "evalue": "",
     "output_type": "error",
     "traceback": [
      "\u001b[1;31mRunning cells with 'virtual_setup' requires the ipykernel package.\n",
      "\u001b[1;31mRun the following command to install 'ipykernel' into the Python environment. \n",
      "\u001b[1;31mCommand: 'c:/Users/harsh/Desktop/NPCI-Python-ML/virtual_setup/Scripts/python.exe -m pip install ipykernel -U --force-reinstall'"
     ]
    }
   ],
   "source": [
    "print(df.shape, df.columns, df.index, sep=\"\\n\")"
   ]
  },
  {
   "attachments": {},
   "cell_type": "markdown",
   "metadata": {},
   "source": [
    "Conclusion: 200 rows and 6 columns with row numbers set as index"
   ]
  },
  {
   "cell_type": "code",
   "execution_count": null,
   "metadata": {},
   "outputs": [
    {
     "ename": "",
     "evalue": "",
     "output_type": "error",
     "traceback": [
      "\u001b[1;31mRunning cells with 'virtual_setup' requires the ipykernel package.\n",
      "\u001b[1;31mRun the following command to install 'ipykernel' into the Python environment. \n",
      "\u001b[1;31mCommand: 'c:/Users/harsh/Desktop/NPCI-Python-ML/virtual_setup/Scripts/python.exe -m pip install ipykernel -U --force-reinstall'"
     ]
    }
   ],
   "source": [
    "display(df.info())\n",
    "\n",
    "display(df.isna().sum())"
   ]
  },
  {
   "attachments": {},
   "cell_type": "markdown",
   "metadata": {},
   "source": [
    "Conclusion: No missing data in the dataset"
   ]
  },
  {
   "cell_type": "code",
   "execution_count": null,
   "metadata": {},
   "outputs": [
    {
     "ename": "",
     "evalue": "",
     "output_type": "error",
     "traceback": [
      "\u001b[1;31mRunning cells with 'virtual_setup' requires the ipykernel package.\n",
      "\u001b[1;31mRun the following command to install 'ipykernel' into the Python environment. \n",
      "\u001b[1;31mCommand: 'c:/Users/harsh/Desktop/NPCI-Python-ML/virtual_setup/Scripts/python.exe -m pip install ipykernel -U --force-reinstall'"
     ]
    }
   ],
   "source": [
    "display(df.nunique())"
   ]
  },
  {
   "attachments": {},
   "cell_type": "markdown",
   "metadata": {},
   "source": [
    "Age & Na_to_K are real-value columns\n",
    "\n",
    "Drug is the target (categorical)\n",
    "\n",
    "BP, Cholesterol & Sex are categorical feature columns"
   ]
  },
  {
   "attachments": {},
   "cell_type": "markdown",
   "metadata": {},
   "source": [
    "### Visualizing relation between feature & target"
   ]
  },
  {
   "attachments": {},
   "cell_type": "markdown",
   "metadata": {},
   "source": [
    "#  step 2b) Preprocess the data"
   ]
  },
  {
   "cell_type": "code",
   "execution_count": null,
   "metadata": {},
   "outputs": [
    {
     "ename": "",
     "evalue": "",
     "output_type": "error",
     "traceback": [
      "\u001b[1;31mRunning cells with 'virtual_setup' requires the ipykernel package.\n",
      "\u001b[1;31mRun the following command to install 'ipykernel' into the Python environment. \n",
      "\u001b[1;31mCommand: 'c:/Users/harsh/Desktop/NPCI-Python-ML/virtual_setup/Scripts/python.exe -m pip install ipykernel -U --force-reinstall'"
     ]
    }
   ],
   "source": [
    "categorical_features=[\"person_home_ownership\",\"loan_intent\",\"loan_grade\",\"cb_person_default_on_file\"]\n",
    "\n",
    "real_value_features=[\"person_age\",\"person_income\",\"person_emp_length\",\"loan_amnt\",\"loan_int_rate\",\"loan_percent_income\",\"cb_person_cred_hist_length\"]"
   ]
  },
  {
   "attachments": {},
   "cell_type": "markdown",
   "metadata": {},
   "source": [
    "### Scaling of features"
   ]
  },
  {
   "cell_type": "code",
   "execution_count": null,
   "metadata": {},
   "outputs": [
    {
     "ename": "",
     "evalue": "",
     "output_type": "error",
     "traceback": [
      "\u001b[1;31mRunning cells with 'virtual_setup' requires the ipykernel package.\n",
      "\u001b[1;31mRun the following command to install 'ipykernel' into the Python environment. \n",
      "\u001b[1;31mCommand: 'c:/Users/harsh/Desktop/NPCI-Python-ML/virtual_setup/Scripts/python.exe -m pip install ipykernel -U --force-reinstall'"
     ]
    }
   ],
   "source": [
    "df.columns"
   ]
  },
  {
   "cell_type": "code",
   "execution_count": null,
   "metadata": {},
   "outputs": [
    {
     "ename": "",
     "evalue": "",
     "output_type": "error",
     "traceback": [
      "\u001b[1;31mRunning cells with 'virtual_setup' requires the ipykernel package.\n",
      "\u001b[1;31mRun the following command to install 'ipykernel' into the Python environment. \n",
      "\u001b[1;31mCommand: 'c:/Users/harsh/Desktop/NPCI-Python-ML/virtual_setup/Scripts/python.exe -m pip install ipykernel -U --force-reinstall'"
     ]
    }
   ],
   "source": [
    "sc = StandardScaler()\n",
    "\n",
    "for col in real_value_features:\n",
    "    df[[col]] = sc.fit_transform(df[[col]])\n",
    "\n",
    "display(df[real_value_features].describe())\n",
    "\n",
    "fig = pe.box(y=real_value_features, data_frame=df)\n",
    "display(   fig    )"
   ]
  },
  {
   "attachments": {},
   "cell_type": "markdown",
   "metadata": {},
   "source": [
    "### categorical columns encoding"
   ]
  },
  {
   "cell_type": "code",
   "execution_count": null,
   "metadata": {},
   "outputs": [
    {
     "ename": "",
     "evalue": "",
     "output_type": "error",
     "traceback": [
      "\u001b[1;31mRunning cells with 'virtual_setup' requires the ipykernel package.\n",
      "\u001b[1;31mRun the following command to install 'ipykernel' into the Python environment. \n",
      "\u001b[1;31mCommand: 'c:/Users/harsh/Desktop/NPCI-Python-ML/virtual_setup/Scripts/python.exe -m pip install ipykernel -U --force-reinstall'"
     ]
    }
   ],
   "source": [
    "le = LabelEncoder()\n",
    "\n",
    "for col in categorical_features:\n",
    "    df[col] = le.fit_transform(df[col])\n",
    "\n",
    "df[categorical_features]"
   ]
  },
  {
   "cell_type": "code",
   "execution_count": null,
   "metadata": {},
   "outputs": [
    {
     "ename": "",
     "evalue": "",
     "output_type": "error",
     "traceback": [
      "\u001b[1;31mRunning cells with 'virtual_setup' requires the ipykernel package.\n",
      "\u001b[1;31mRun the following command to install 'ipykernel' into the Python environment. \n",
      "\u001b[1;31mCommand: 'c:/Users/harsh/Desktop/NPCI-Python-ML/virtual_setup/Scripts/python.exe -m pip install ipykernel -U --force-reinstall'"
     ]
    }
   ],
   "source": [
    "model = PCA(n_components=5)\n",
    "\n",
    "ans = model.fit_transform(df[real_value_features])\n",
    "\n",
    "result = pd.DataFrame(ans, columns=['PCA1', \"PCA2\", \"PCA3\", \"PCA4\", \"PCA5\"])\n",
    "\n",
    "print(model.explained_variance_ratio_)"
   ]
  },
  {
   "cell_type": "code",
   "execution_count": null,
   "metadata": {},
   "outputs": [
    {
     "ename": "",
     "evalue": "",
     "output_type": "error",
     "traceback": [
      "\u001b[1;31mRunning cells with 'virtual_setup' requires the ipykernel package.\n",
      "\u001b[1;31mRun the following command to install 'ipykernel' into the Python environment. \n",
      "\u001b[1;31mCommand: 'c:/Users/harsh/Desktop/NPCI-Python-ML/virtual_setup/Scripts/python.exe -m pip install ipykernel -U --force-reinstall'"
     ]
    }
   ],
   "source": [
    "df.loan_status.value_counts(normalize=True)"
   ]
  },
  {
   "attachments": {},
   "cell_type": "markdown",
   "metadata": {},
   "source": [
    "### creation of search space\n",
    "\n",
    "## objective: to create 2 sets of parameters for 2 different algorithms.\n",
    "            Hyperopt can only select one set at a time.\n",
    "            Depending on whether we have set of SVM or set of logit model, operations also differ\n",
    "\n",
    "steps: \n",
    "    a) Create separate dictionaries with parameters and their available options\n",
    "    b) add a model_type key inside the dictionary to label the dictionary\n",
    "    c) put all the dictionaries into a list/tuple to specify that this is a collection of parameter sets!\n",
    "    d) since we need to choice one entry from list/tuple created in step c, use hp.choice on this list"
   ]
  },
  {
   "attachments": {},
   "cell_type": "markdown",
   "metadata": {},
   "source": [
    "Search Space is made up of many smaller search space.\n",
    "\n",
    "Each smaller space is corresponding to one type of algorithm\n",
    "\n",
    "space for dtree\n",
    "{}\n",
    "space for logistic regression\n",
    "{}\n",
    "space random\n",
    "{}\n",
    "space svm\n",
    "{}\n",
    "\n",
    "choosing the right algorithm is a also a search space decision\n",
    "\n",
    "choose an algorithm using hp.choice from a list of [{}, {},{},{},{}]"
   ]
  },
  {
   "cell_type": "code",
   "execution_count": null,
   "metadata": {},
   "outputs": [
    {
     "ename": "",
     "evalue": "",
     "output_type": "error",
     "traceback": [
      "\u001b[1;31mRunning cells with 'virtual_setup' requires the ipykernel package.\n",
      "\u001b[1;31mRun the following command to install 'ipykernel' into the Python environment. \n",
      "\u001b[1;31mCommand: 'c:/Users/harsh/Desktop/NPCI-Python-ML/virtual_setup/Scripts/python.exe -m pip install ipykernel -U --force-reinstall'"
     ]
    }
   ],
   "source": [
    "#keys of this dictionary are names of parameters\n",
    "space =hp.choice( 'algorithm',\n",
    "    [\n",
    "        {\n",
    "        'model_type' : \"SVM\",\n",
    "        'C' : hp.uniform(  'alpha parameter_SVM', 0, 10  ), #choose some number between 0 to 3\n",
    "        'kernel' : hp.choice('penalty type name_SVM', ['rbf', 'poly', \"sigmoid\"]), #adding options to choose from for kernel parameter\n",
    "        'degree' : hp.choice('degree', [1,2,3,4]),\n",
    "        \"gamma\" : hp.choice(\"gamma value\", [\"scale\", \"auto\"]),\n",
    "        },\n",
    "\n",
    "        {\n",
    "        'model_type' : \"logit\",\n",
    "        'C' : hp.uniform(  'alpha parameter_logit', 0, 3  ), #choose some number between 0 to 3\n",
    "        'penalty' : hp.choice('penalty type name_logit', ['l1', 'l2']), #adding 2 options to choose from for penalty parameter\n",
    "        'solver' : hp.choice('solver', ['liblinear']) #choose one of the  solver algorithms\n",
    "        },\n",
    "\n",
    "        {\n",
    "            'model_type' : \"dtree\",\n",
    "            'criterion' : hp.choice('criteria_tree', ['gini', 'entropy', 'log_loss']),\n",
    "            'splitter' : hp.choice('splitter_tree', ['best', 'random']),\n",
    "            'max_depth' : hp.choice('depth_tree', [x for x in range(1,12,1)])\n",
    "        },\n",
    "\n",
    "        {\n",
    "            'model_type' : \"random_forest\",\n",
    "            'criterion' : hp.choice('criteria_forest', ['gini', 'entropy', 'log_loss']),\n",
    "            'max_depth' : hp.choice('depth_forest', [x for x in range(1,12,1)]),\n",
    "            'n_estimators': hp.choice('estimator_count_forest', [x for x in range(5,125,20)]), \n",
    "            'max_features' : hp.choice('feature_count_forest', ['sqrt', 'log2'])\n",
    "        }\n",
    "       \n",
    "    ]\n",
    ")\n"
   ]
  },
  {
   "cell_type": "markdown",
   "metadata": {},
   "source": []
  },
  {
   "attachments": {},
   "cell_type": "markdown",
   "metadata": {},
   "source": [
    "### steps\n",
    "\n",
    "a) Accept the entire search space as a parameter. One algorithm will be passed to the model at a time from this space\n",
    "\n",
    "b) find out which algorithm is being picked in the current iteration by reading the model_type entry of the parameter set.\n",
    "\n",
    "c) Since model_type is not a parameter for any ML algorithm class in sklearn, delete it before passing the parameter dictionary to your model\n",
    "\n",
    "d) use a if condition check to run code according to selected algorithm"
   ]
  },
  {
   "attachments": {},
   "cell_type": "markdown",
   "metadata": {},
   "source": [
    "{\n",
    "\n",
    "    \"max_depth\" : hp.choice( [3,4,5])\n",
    "}"
   ]
  },
  {
   "cell_type": "code",
   "execution_count": null,
   "metadata": {},
   "outputs": [
    {
     "ename": "",
     "evalue": "",
     "output_type": "error",
     "traceback": [
      "\u001b[1;31mRunning cells with 'virtual_setup' requires the ipykernel package.\n",
      "\u001b[1;31mRun the following command to install 'ipykernel' into the Python environment. \n",
      "\u001b[1;31mCommand: 'c:/Users/harsh/Desktop/NPCI-Python-ML/virtual_setup/Scripts/python.exe -m pip install ipykernel -U --force-reinstall'"
     ]
    }
   ],
   "source": [
    "scores=[]\n",
    "def objective(space):\n",
    "    \n",
    "    algo = space['model_type'] #step b\n",
    "    del space['model_type']\n",
    "\n",
    "    if  algo == \"logit\":\n",
    "        features = real_value_features + categorical_features\n",
    "        target = 'loan_status'\n",
    "\n",
    "        X_train, X_test, y_train, y_test = train_test_split(  \n",
    "        df[features],df[target],\n",
    "        test_size=0.4,\n",
    "        random_state=10,\n",
    "        stratify = df[target]\n",
    "        )\n",
    "\n",
    "        model = LogisticRegression(**space)\n",
    "\n",
    "        model.fit(X_train, y_train)\n",
    "\n",
    "        pred = model.predict(X_test)\n",
    "\n",
    "        accuracy = f1_score(y_test,pred, average='weighted')\n",
    "        scores.append(accuracy)\n",
    "        return {'loss': -accuracy,'status':STATUS_OK, \"algo\": algo}\n",
    "\n",
    "    if algo == \"SVM\":\n",
    "        features = real_value_features\n",
    "        target = 'loan_status'\n",
    "\n",
    "        X_train, X_test, y_train, y_test = train_test_split(  \n",
    "        df[features],df[target],\n",
    "        test_size=0.4,\n",
    "        random_state=10,\n",
    "        stratify = df[target]\n",
    "        )\n",
    "        model = SVC(**space)\n",
    "\n",
    "        model.fit(X_train, y_train)\n",
    "\n",
    "        pred = model.predict(X_test)\n",
    "\n",
    "        accuracy = f1_score(y_test,pred, average='weighted')\n",
    "\n",
    "\n",
    "        scores.append(accuracy)\n",
    "        return {'loss': -accuracy,'status':STATUS_OK, \"algo\": algo}\n",
    "\n",
    "    if  algo == \"dtree\":\n",
    "        features = real_value_features + categorical_features\n",
    "        target = 'loan_status'\n",
    "\n",
    "        X_train, X_test, y_train, y_test = train_test_split(  \n",
    "        df[features],df[target],\n",
    "        test_size=0.4,\n",
    "        random_state=10,\n",
    "        stratify = df[target]\n",
    "        )\n",
    "\n",
    "        model = DecisionTreeClassifier(**space)\n",
    "\n",
    "        model.fit(X_train, y_train)\n",
    "\n",
    "        pred = model.predict(X_test)\n",
    "\n",
    "        accuracy = f1_score(y_test,pred, average='weighted')\n",
    "        scores.append(accuracy)\n",
    "        return {'loss': -accuracy,'status':STATUS_OK, \"algo\": algo}\n",
    "\n",
    "    if  algo == \"random_forest\":\n",
    "        features = real_value_features + categorical_features\n",
    "        target = 'loan_status'\n",
    "\n",
    "        X_train, X_test, y_train, y_test = train_test_split(  \n",
    "        df[features],df[target],\n",
    "        test_size=0.4,\n",
    "        random_state=10,\n",
    "        stratify = df[target]\n",
    "        )\n",
    "\n",
    "        model = RandomForestClassifier(**space)\n",
    "\n",
    "        model.fit(X_train, y_train)\n",
    "\n",
    "        pred = model.predict(X_test)\n",
    "\n",
    "        accuracy = f1_score(y_test,pred, average='weighted')\n",
    "        scores.append(accuracy)\n",
    "        return {'loss': -accuracy,'status':STATUS_OK, \"algo\": algo}\n",
    "    "
   ]
  },
  {
   "cell_type": "code",
   "execution_count": null,
   "metadata": {},
   "outputs": [
    {
     "ename": "",
     "evalue": "",
     "output_type": "error",
     "traceback": [
      "\u001b[1;31mRunning cells with 'virtual_setup' requires the ipykernel package.\n",
      "\u001b[1;31mRun the following command to install 'ipykernel' into the Python environment. \n",
      "\u001b[1;31mCommand: 'c:/Users/harsh/Desktop/NPCI-Python-ML/virtual_setup/Scripts/python.exe -m pip install ipykernel -U --force-reinstall'"
     ]
    }
   ],
   "source": [
    "trials = Trials() #create a database (in-memory)\n",
    "\n",
    "      #fmin is the function to be used for minimum optimization\n",
    "best = fmin(fn=objective, #function\n",
    "            space=space, #search space parameters\n",
    "            algo=tpe.suggest,\n",
    "            early_stop_fn=no_progress_loss(  iteration_stop_count=100, percent_increase=0.1 ), \n",
    "            max_evals=1000,\n",
    "            trials=trials)\n",
    "\n",
    "\n",
    "print (space_eval(space, best))"
   ]
  }
 ],
 "metadata": {
  "kernelspec": {
   "display_name": "Python 3",
   "language": "python",
   "name": "python3"
  },
  "language_info": {
   "codemirror_mode": {
    "name": "ipython",
    "version": 3
   },
   "file_extension": ".py",
   "mimetype": "text/x-python",
   "name": "python",
   "nbconvert_exporter": "python",
   "pygments_lexer": "ipython3",
   "version": "3.11.2"
  },
  "orig_nbformat": 4,
  "vscode": {
   "interpreter": {
    "hash": "b5366fdf1b75ea46866cbb0dbf20c9c00a492271cd056179d726b8c91a378c13"
   }
  }
 },
 "nbformat": 4,
 "nbformat_minor": 2
}
